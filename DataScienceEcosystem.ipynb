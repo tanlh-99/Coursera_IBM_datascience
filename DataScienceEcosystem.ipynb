{
  "metadata": {
    "kernelspec": {
      "name": "python",
      "display_name": "Python (Pyodide)",
      "language": "python"
    },
    "language_info": {
      "codemirror_mode": {
        "name": "python",
        "version": 3
      },
      "file_extension": ".py",
      "mimetype": "text/x-python",
      "name": "python",
      "nbconvert_exporter": "python",
      "pygments_lexer": "ipython3",
      "version": "3.8"
    }
  },
  "nbformat_minor": 5,
  "nbformat": 4,
  "cells": [
    {
      "id": "5c794fa7-3792-49fe-b377-8dc639375ee1",
      "cell_type": "markdown",
      "source": "# Data Science Tools and Ecosystem",
      "metadata": {}
    },
    {
      "id": "a4c0b796-f819-47ea-bf01-bead7607a62b",
      "cell_type": "markdown",
      "source": "In this notebook, Data Science Tools and Ecosystem are summarized.",
      "metadata": {}
    },
    {
      "id": "97b3d6ef-50c5-49d4-a504-7df0176b746d",
      "cell_type": "markdown",
      "source": "Some of the popular languages that Data Scientists use are:\n1. Python\n2. R\n3. SQL",
      "metadata": {}
    },
    {
      "id": "58b8c362-9a05-43c6-a799-71c624b0a5fa",
      "cell_type": "markdown",
      "source": "Some of the commonly used libraries used by Data Scientists include:\n1. NumPy\n2. Pandas\n3. Matplotlib\n4. Seaborn\n6. Scikit-learn\n",
      "metadata": {}
    },
    {
      "id": "3060532b-38e6-477f-afb3-41a10e7053fc",
      "cell_type": "markdown",
      "source": "|Data Science Tools|\n|-----|\n|Jupyter Notebook/JupyterLab|\n|RStudio|\n|Apache Spark|",
      "metadata": {}
    },
    {
      "id": "4583485a-7c98-4213-9c4c-45972ea15acc",
      "cell_type": "markdown",
      "source": "### Below are a few examples of evaluating arithmetic expressions in Python",
      "metadata": {}
    },
    {
      "id": "eb3754b7-f735-4506-bbed-151f53786d8e",
      "cell_type": "code",
      "source": "# This a simple arithmetic expression to mutiply then add integers\n(3*4)+5\n",
      "metadata": {
        "trusted": true
      },
      "outputs": [
        {
          "execution_count": 2,
          "output_type": "execute_result",
          "data": {
            "text/plain": "17"
          },
          "metadata": {}
        }
      ],
      "execution_count": 2
    },
    {
      "id": "5470e679-ba28-40e4-889b-77f90b359011",
      "cell_type": "code",
      "source": "# This will convert 200 minutes to hours by diving by 60\n200/60",
      "metadata": {
        "trusted": true
      },
      "outputs": [
        {
          "execution_count": 3,
          "output_type": "execute_result",
          "data": {
            "text/plain": "3.3333333333333335"
          },
          "metadata": {}
        }
      ],
      "execution_count": 3
    },
    {
      "id": "d46c140b-999c-456c-9054-c24912e97a98",
      "cell_type": "markdown",
      "source": "**Objectives**\n- List popular languages for Data Science\n- List common libraries for Data Science\n- Examples of evaluating arithmetic expressions\n\n\n    ",
      "metadata": {}
    },
    {
      "id": "a9cc78ce-f535-4620-ad52-ee8de89a6d38",
      "cell_type": "markdown",
      "source": "## Author: Lay Hoon",
      "metadata": {}
    },
    {
      "id": "bd24784e-a40c-466b-9449-ef1f112156d3",
      "cell_type": "code",
      "source": "",
      "metadata": {
        "trusted": true
      },
      "outputs": [],
      "execution_count": null
    }
  ]
}